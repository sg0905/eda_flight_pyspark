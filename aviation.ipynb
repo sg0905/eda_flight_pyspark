{
 "cells": [
  {
   "cell_type": "code",
   "execution_count": 13,
   "metadata": {},
   "outputs": [
    {
     "name": "stdout",
     "output_type": "stream",
     "text": [
      "Requirement already satisfied: pyspark in d:\\github\\medicine recommendation system\\.venv\\lib\\site-packages (3.5.3)\n",
      "Requirement already satisfied: py4j==0.10.9.7 in d:\\github\\medicine recommendation system\\.venv\\lib\\site-packages (from pyspark) (0.10.9.7)\n"
     ]
    },
    {
     "name": "stderr",
     "output_type": "stream",
     "text": [
      "\n",
      "[notice] A new release of pip is available: 24.2 -> 24.3.1\n",
      "[notice] To update, run: python.exe -m pip install --upgrade pip\n"
     ]
    }
   ],
   "source": [
    "#import pyspark\n",
    "\n",
    "!pip install pyspark"
   ]
  },
  {
   "cell_type": "code",
   "execution_count": 14,
   "metadata": {},
   "outputs": [
    {
     "name": "stdout",
     "output_type": "stream",
     "text": [
      "3.5.3\n"
     ]
    }
   ],
   "source": [
    "import pyspark\n",
    "print(pyspark.__version__)"
   ]
  },
  {
   "cell_type": "markdown",
   "metadata": {},
   "source": [
    "****\n",
    "**col:** References a column by name in a DataFrame.\n",
    "\n",
    "**mean / avg:** Calculates the average of a specified column.\n",
    "\n",
    "**mode:** PySpark lacks a built-in mode function; it can be computed by grouping and sorting values by count.\n",
    "\n",
    "**udf:** Creates a User Defined Function for custom transformations on columns.\n",
    "\n",
    "**corr:** Calculates the correlation between two columns.\n",
    "\n",
    "**hour:** Extracts the hour from a timestamp column.\n",
    "\n",
    "**dayofweek:** Extracts the day of the week from a date column.\n",
    "\n",
    "**month:** Extracts the month from a date column.\n",
    "\n",
    "**substring:** Extracts a part of a string from a specified column.\n",
    "\n",
    "**concat:** Concatenates multiple columns into a single column.\n",
    "\n",
    "**count:** Counts the number of non-null entries in a column or group.\n",
    "\n",
    "**max:** Finds the maximum value of a specified column.\n",
    "****"
   ]
  },
  {
   "cell_type": "code",
   "execution_count": 15,
   "metadata": {},
   "outputs": [],
   "source": [
    "from pyspark.sql import SparkSession\n",
    "from pyspark.sql.functions import col, mean, mode, avg, udf, corr, hour, substring, concat, dayofweek, count, month, max,desc\n",
    "from pyspark.sql.types import StringType, FloatType, DoubleType"
   ]
  },
  {
   "cell_type": "code",
   "execution_count": 16,
   "metadata": {},
   "outputs": [],
   "source": [
    "spark = SparkSession.builder \\\n",
    "    .appName(\"FlightData\") \\\n",
    "    .getOrCreate()"
   ]
  },
  {
   "cell_type": "code",
   "execution_count": 17,
   "metadata": {},
   "outputs": [],
   "source": [
    "df = spark.read.csv('flights.csv',inferSchema=True, header=True, sep=\",\")"
   ]
  },
  {
   "cell_type": "code",
   "execution_count": 18,
   "metadata": {},
   "outputs": [
    {
     "name": "stdout",
     "output_type": "stream",
     "text": [
      "+---+----+-----+---+--------+--------------+---------+--------+--------------+---------+-------+------+-------+------+----+--------+--------+----+------+-------------------+--------------------+\n",
      "| id|year|month|day|dep_time|sched_dep_time|dep_delay|arr_time|sched_arr_time|arr_delay|carrier|flight|tailnum|origin|dest|air_time|distance|hour|minute|          time_hour|                name|\n",
      "+---+----+-----+---+--------+--------------+---------+--------+--------------+---------+-------+------+-------+------+----+--------+--------+----+------+-------------------+--------------------+\n",
      "|  0|2013|    1|  1|   517.0|           515|      2.0|   830.0|           819|     11.0|     UA|  1545| N14228|   EWR| IAH|   227.0|    1400|   5|    15|2013-01-01 05:00:00|United Air Lines ...|\n",
      "|  1|2013|    1|  1|   533.0|           529|      4.0|   850.0|           830|     20.0|     UA|  1714| N24211|   LGA| IAH|   227.0|    1416|   5|    29|2013-01-01 05:00:00|United Air Lines ...|\n",
      "|  2|2013|    1|  1|   542.0|           540|      2.0|   923.0|           850|     33.0|     AA|  1141| N619AA|   JFK| MIA|   160.0|    1089|   5|    40|2013-01-01 05:00:00|American Airlines...|\n",
      "|  3|2013|    1|  1|   544.0|           545|     -1.0|  1004.0|          1022|    -18.0|     B6|   725| N804JB|   JFK| BQN|   183.0|    1576|   5|    45|2013-01-01 05:00:00|     JetBlue Airways|\n",
      "|  4|2013|    1|  1|   554.0|           600|     -6.0|   812.0|           837|    -25.0|     DL|   461| N668DN|   LGA| ATL|   116.0|     762|   6|     0|2013-01-01 06:00:00|Delta Air Lines Inc.|\n",
      "|  5|2013|    1|  1|   554.0|           558|     -4.0|   740.0|           728|     12.0|     UA|  1696| N39463|   EWR| ORD|   150.0|     719|   5|    58|2013-01-01 05:00:00|United Air Lines ...|\n",
      "|  6|2013|    1|  1|   555.0|           600|     -5.0|   913.0|           854|     19.0|     B6|   507| N516JB|   EWR| FLL|   158.0|    1065|   6|     0|2013-01-01 06:00:00|     JetBlue Airways|\n",
      "|  7|2013|    1|  1|   557.0|           600|     -3.0|   709.0|           723|    -14.0|     EV|  5708| N829AS|   LGA| IAD|    53.0|     229|   6|     0|2013-01-01 06:00:00|ExpressJet Airlin...|\n",
      "|  8|2013|    1|  1|   557.0|           600|     -3.0|   838.0|           846|     -8.0|     B6|    79| N593JB|   JFK| MCO|   140.0|     944|   6|     0|2013-01-01 06:00:00|     JetBlue Airways|\n",
      "|  9|2013|    1|  1|   558.0|           600|     -2.0|   753.0|           745|      8.0|     AA|   301| N3ALAA|   LGA| ORD|   138.0|     733|   6|     0|2013-01-01 06:00:00|American Airlines...|\n",
      "| 10|2013|    1|  1|   558.0|           600|     -2.0|   849.0|           851|     -2.0|     B6|    49| N793JB|   JFK| PBI|   149.0|    1028|   6|     0|2013-01-01 06:00:00|     JetBlue Airways|\n",
      "| 11|2013|    1|  1|   558.0|           600|     -2.0|   853.0|           856|     -3.0|     B6|    71| N657JB|   JFK| TPA|   158.0|    1005|   6|     0|2013-01-01 06:00:00|     JetBlue Airways|\n",
      "| 12|2013|    1|  1|   558.0|           600|     -2.0|   924.0|           917|      7.0|     UA|   194| N29129|   JFK| LAX|   345.0|    2475|   6|     0|2013-01-01 06:00:00|United Air Lines ...|\n",
      "| 13|2013|    1|  1|   558.0|           600|     -2.0|   923.0|           937|    -14.0|     UA|  1124| N53441|   EWR| SFO|   361.0|    2565|   6|     0|2013-01-01 06:00:00|United Air Lines ...|\n",
      "| 14|2013|    1|  1|   559.0|           600|     -1.0|   941.0|           910|     31.0|     AA|   707| N3DUAA|   LGA| DFW|   257.0|    1389|   6|     0|2013-01-01 06:00:00|American Airlines...|\n",
      "| 15|2013|    1|  1|   559.0|           559|      0.0|   702.0|           706|     -4.0|     B6|  1806| N708JB|   JFK| BOS|    44.0|     187|   5|    59|2013-01-01 05:00:00|     JetBlue Airways|\n",
      "| 16|2013|    1|  1|   559.0|           600|     -1.0|   854.0|           902|     -8.0|     UA|  1187| N76515|   EWR| LAS|   337.0|    2227|   6|     0|2013-01-01 06:00:00|United Air Lines ...|\n",
      "| 17|2013|    1|  1|   600.0|           600|      0.0|   851.0|           858|     -7.0|     B6|   371| N595JB|   LGA| FLL|   152.0|    1076|   6|     0|2013-01-01 06:00:00|     JetBlue Airways|\n",
      "| 18|2013|    1|  1|   600.0|           600|      0.0|   837.0|           825|     12.0|     MQ|  4650| N542MQ|   LGA| ATL|   134.0|     762|   6|     0|2013-01-01 06:00:00|           Envoy Air|\n",
      "| 19|2013|    1|  1|   601.0|           600|      1.0|   844.0|           850|     -6.0|     B6|   343| N644JB|   EWR| PBI|   147.0|    1023|   6|     0|2013-01-01 06:00:00|     JetBlue Airways|\n",
      "+---+----+-----+---+--------+--------------+---------+--------+--------------+---------+-------+------+-------+------+----+--------+--------+----+------+-------------------+--------------------+\n",
      "only showing top 20 rows\n",
      "\n"
     ]
    }
   ],
   "source": [
    "df.show()"
   ]
  },
  {
   "cell_type": "code",
   "execution_count": 19,
   "metadata": {},
   "outputs": [
    {
     "name": "stdout",
     "output_type": "stream",
     "text": [
      "Column 'dep_time' has 8255 null values\n",
      "Column 'dep_delay' has 8255 null values\n",
      "Column 'arr_time' has 8713 null values\n",
      "Column 'arr_delay' has 9430 null values\n",
      "Column 'tailnum' has 2512 null values\n",
      "Column 'air_time' has 9430 null values\n",
      "Null Coloumn : ['dep_time', 'dep_delay', 'arr_time', 'arr_delay', 'tailnum', 'air_time']\n"
     ]
    }
   ],
   "source": [
    "#check for null values\n",
    "null_columns = []\n",
    "for column in df.columns:\n",
    "    null_count = df.filter(col(column).isNull()).count()\n",
    "    if null_count != 0:\n",
    "        print(f\"Column '{column}' has {null_count} null values\")\n",
    "        null_columns.append(column)\n",
    "\n",
    "print(\"Null Coloumn :\", null_columns)\n"
   ]
  },
  {
   "cell_type": "markdown",
   "metadata": {},
   "source": [
    "****Working with Null column****"
   ]
  },
  {
   "cell_type": "code",
   "execution_count": 20,
   "metadata": {},
   "outputs": [
    {
     "name": "stdout",
     "output_type": "stream",
     "text": [
      "Coloumn 'dep_time' is of type 'DoubleType()'\n",
      "Coloumn 'dep_delay' is of type 'DoubleType()'\n",
      "Coloumn 'arr_time' is of type 'DoubleType()'\n",
      "Coloumn 'arr_delay' is of type 'DoubleType()'\n",
      "Coloumn 'tailnum' is of type 'StringType()'\n",
      "Coloumn 'air_time' is of type 'DoubleType()'\n"
     ]
    }
   ],
   "source": [
    "for col in null_columns:\n",
    "    col_type = df.schema[col].dataType\n",
    "    print(f\"Coloumn '{col}' is of type '{col_type}'\")"
   ]
  },
  {
   "cell_type": "code",
   "execution_count": 21,
   "metadata": {},
   "outputs": [
    {
     "name": "stdout",
     "output_type": "stream",
     "text": [
      "Column 'dep_time' is of type 'DoubleType()'\n",
      "The mean value for column 'dep_time' is 1349.1099473093045\n",
      "Column 'dep_delay' is of type 'DoubleType()'\n",
      "The mean value for column 'dep_delay' is 12.639070257304708\n",
      "Column 'arr_time' is of type 'DoubleType()'\n",
      "The mean value for column 'arr_time' is 1502.0549985825894\n",
      "Column 'arr_delay' is of type 'DoubleType()'\n",
      "The mean value for column 'arr_delay' is 6.89537675731489\n",
      "Column 'tailnum' is of type 'StringType()'\n",
      "Mode for column 'tailnum' is 'None'\n",
      "Column 'air_time' is of type 'DoubleType()'\n",
      "The mean value for column 'air_time' is 150.68646019807787\n"
     ]
    }
   ],
   "source": [
    "\n",
    "for col_name in null_columns:\n",
    "    col_type = df.schema[col_name].dataType\n",
    "    print(f\"Column '{col_name}' is of type '{col_type}'\")\n",
    "    \n",
    "    # For string type columns, fill nulls with the mode value\n",
    "    \n",
    "    \n",
    "    if isinstance(col_type, StringType):\n",
    "        mode_val = df.groupBy(col_name).count().orderBy(desc(\"count\")).first()[0]\n",
    "        print(f\"Mode for column '{col_name}' is '{mode_val}'\")\n",
    "        df = df.fillna({col_name: str(mode_val)}) \n",
    "    \n",
    "    # For double type columns, fill nulls with the mean value\n",
    "    \n",
    "    \n",
    "    elif isinstance(col_type, DoubleType):\n",
    "        mean_val = df.agg(avg(col_name)).collect()[0][0]\n",
    "        \n",
    "        # Fill null with mean value for double columns\n",
    "        df = df.fillna({col_name: float(mean_val)})  \n",
    "        print(f\"The mean value for column '{col_name}' is {mean_val}\")\n"
   ]
  },
  {
   "cell_type": "code",
   "execution_count": null,
   "metadata": {},
   "outputs": [],
   "source": []
  }
 ],
 "metadata": {
  "kernelspec": {
   "display_name": ".venv",
   "language": "python",
   "name": "python3"
  },
  "language_info": {
   "codemirror_mode": {
    "name": "ipython",
    "version": 3
   },
   "file_extension": ".py",
   "mimetype": "text/x-python",
   "name": "python",
   "nbconvert_exporter": "python",
   "pygments_lexer": "ipython3",
   "version": "3.12.0"
  }
 },
 "nbformat": 4,
 "nbformat_minor": 2
}
